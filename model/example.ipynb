{
 "cells": [
  {
   "cell_type": "code",
   "execution_count": 1,
   "id": "e5346112",
   "metadata": {},
   "outputs": [
    {
     "name": "stdout",
     "output_type": "stream",
     "text": [
      "Model loaded from 'trained_model.pkl'.\n",
      "Prediction for the single data point: ['b']\n"
     ]
    }
   ],
   "source": [
    "import pickle\n",
    "import numpy as np\n",
    "import json\n",
    "\n",
    "# Load the serialized model\n",
    "with open('trained_model.pkl', 'rb') as model_file:\n",
    "    loaded_model = pickle.load(model_file)\n",
    "\n",
    "print(\"Model loaded from 'trained_model.pkl'.\")\n",
    "\n",
    "# Example JSON input (replace with your actual JSON input)\n",
    "json_input = '{\"energy-kcal_100g\": 0, \"saturated-fat_100g\": 0, \"carbohydrates_100g\": 10, \"sugars_100g\": 10, \"fiber_100g\": 100, \"proteins_100g\": 2, \"salt_100g\": 2}'\n",
    "\n",
    "# Parse the JSON input\n",
    "data = json.loads(json_input)\n",
    "\n",
    "# Prepare the data point as a 2D array\n",
    "single_data_point = np.array([[data['energy-kcal_100g'], \n",
    "                                data['saturated-fat_100g'], \n",
    "                                data['carbohydrates_100g'], \n",
    "                                data['sugars_100g'], \n",
    "                                data['fiber_100g'], \n",
    "                                data['proteins_100g'], \n",
    "                                data['salt_100g']]])\n",
    "\n",
    "# Make a prediction\n",
    "prediction = loaded_model.predict(single_data_point)\n",
    "\n",
    "print(\"Prediction for the single data point:\", prediction)"
   ]
  },
  {
   "cell_type": "code",
   "execution_count": null,
   "id": "305a6d86",
   "metadata": {},
   "outputs": [],
   "source": []
  }
 ],
 "metadata": {
  "kernelspec": {
   "display_name": "Python 3 (ipykernel)",
   "language": "python",
   "name": "python3"
  },
  "language_info": {
   "codemirror_mode": {
    "name": "ipython",
    "version": 3
   },
   "file_extension": ".py",
   "mimetype": "text/x-python",
   "name": "python",
   "nbconvert_exporter": "python",
   "pygments_lexer": "ipython3",
   "version": "3.11.5"
  }
 },
 "nbformat": 4,
 "nbformat_minor": 5
}
